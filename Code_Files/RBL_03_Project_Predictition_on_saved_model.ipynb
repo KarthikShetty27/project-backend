{
 "cells": [
  {
   "cell_type": "code",
   "execution_count": 7,
   "metadata": {},
   "outputs": [],
   "source": [
    "# Import necessary libraries\n",
    "import pandas as pd\n",
    "from catboost import CatBoostClassifier\n",
    "from sklearn.preprocessing import LabelEncoder"
   ]
  },
  {
   "cell_type": "code",
   "execution_count": 8,
   "metadata": {},
   "outputs": [
    {
     "data": {
      "text/plain": [
       "<catboost.core.CatBoostClassifier at 0x1a8c8046760>"
      ]
     },
     "execution_count": 8,
     "metadata": {},
     "output_type": "execute_result"
    }
   ],
   "source": [
    "# Load the saved models\n",
    "college_model = CatBoostClassifier()\n",
    "college_model.load_model(\"../Saved_Models/college_model.cbm\")\n",
    "\n",
    "branch_model = CatBoostClassifier()\n",
    "branch_model.load_model(\"../Saved_Models/branch_model.cbm\")"
   ]
  },
  {
   "cell_type": "code",
   "execution_count": 9,
   "metadata": {},
   "outputs": [],
   "source": [
    "# Define the test data in the format provided\n",
    "form_data = [{\"age\":\"20\",\"hscMarks\":\"88.64\",\"jeeMainsMarks\":\"93.26\",\"mhtcetMarks\":\"90.85\",\"socioeconomicBackground\":\"Open\",\"sscMarks\":\"85.65\"}]"
   ]
  },
  {
   "cell_type": "code",
   "execution_count": 10,
   "metadata": {},
   "outputs": [],
   "source": [
    "# Convert list of dictionaries to DataFrame\n",
    "form_data_df = pd.DataFrame(form_data)"
   ]
  },
  {
   "cell_type": "code",
   "execution_count": 12,
   "metadata": {},
   "outputs": [],
   "source": [
    "# Encode categorical variables (Socioeconomic_Background)\n",
    "le = LabelEncoder()\n",
    "form_data_df['Socioeconomic_Background'] = le.fit_transform(form_data_df['socioeconomicBackground'])"
   ]
  },
  {
   "cell_type": "code",
   "execution_count": 13,
   "metadata": {},
   "outputs": [],
   "source": [
    "# Drop the original column after encoding\n",
    "form_data_df.drop(columns=['socioeconomicBackground'], inplace=True)"
   ]
  },
  {
   "cell_type": "code",
   "execution_count": 14,
   "metadata": {},
   "outputs": [
    {
     "data": {
      "text/html": [
       "<div>\n",
       "<style scoped>\n",
       "    .dataframe tbody tr th:only-of-type {\n",
       "        vertical-align: middle;\n",
       "    }\n",
       "\n",
       "    .dataframe tbody tr th {\n",
       "        vertical-align: top;\n",
       "    }\n",
       "\n",
       "    .dataframe thead th {\n",
       "        text-align: right;\n",
       "    }\n",
       "</style>\n",
       "<table border=\"1\" class=\"dataframe\">\n",
       "  <thead>\n",
       "    <tr style=\"text-align: right;\">\n",
       "      <th></th>\n",
       "      <th>age</th>\n",
       "      <th>hscMarks</th>\n",
       "      <th>jeeMainsMarks</th>\n",
       "      <th>mhtcetMarks</th>\n",
       "      <th>sscMarks</th>\n",
       "      <th>Socioeconomic_Background</th>\n",
       "    </tr>\n",
       "  </thead>\n",
       "  <tbody>\n",
       "    <tr>\n",
       "      <th>0</th>\n",
       "      <td>20</td>\n",
       "      <td>88.64</td>\n",
       "      <td>93.26</td>\n",
       "      <td>90.85</td>\n",
       "      <td>85.65</td>\n",
       "      <td>0</td>\n",
       "    </tr>\n",
       "  </tbody>\n",
       "</table>\n",
       "</div>"
      ],
      "text/plain": [
       "  age hscMarks jeeMainsMarks mhtcetMarks sscMarks  Socioeconomic_Background\n",
       "0  20    88.64         93.26       90.85    85.65                         0"
      ]
     },
     "execution_count": 14,
     "metadata": {},
     "output_type": "execute_result"
    }
   ],
   "source": [
    "form_data_df"
   ]
  },
  {
   "cell_type": "code",
   "execution_count": 15,
   "metadata": {},
   "outputs": [],
   "source": [
    "# Function to preprocess the data\n",
    "def preprocess_data(data):\n",
    "    # Convert string values to float where necessary\n",
    "    for entry in data:\n",
    "        entry['age'] = float(entry['age'])\n",
    "        entry['hscMarks'] = float(entry['hscMarks'])\n",
    "        entry['jeeMainsMarks'] = float(entry['jeeMainsMarks'])\n",
    "        entry['mhtcetMarks'] = float(entry['mhtcetMarks'])\n",
    "        entry['sscMarks'] = float(entry['sscMarks'])\n",
    "    return data"
   ]
  },
  {
   "cell_type": "code",
   "execution_count": 16,
   "metadata": {},
   "outputs": [],
   "source": [
    "# Preprocess the test data\n",
    "processed_data = preprocess_data(form_data)"
   ]
  },
  {
   "cell_type": "code",
   "execution_count": 17,
   "metadata": {},
   "outputs": [
    {
     "data": {
      "text/plain": [
       "[{'age': 20.0,\n",
       "  'hscMarks': 88.64,\n",
       "  'jeeMainsMarks': 93.26,\n",
       "  'mhtcetMarks': 90.85,\n",
       "  'socioeconomicBackground': 'Open',\n",
       "  'sscMarks': 85.65}]"
      ]
     },
     "execution_count": 17,
     "metadata": {},
     "output_type": "execute_result"
    }
   ],
   "source": [
    "processed_data"
   ]
  },
  {
   "cell_type": "code",
   "execution_count": 18,
   "metadata": {},
   "outputs": [],
   "source": [
    "# Convert the processed data into a DataFrame\n",
    "data_point = pd.DataFrame({\n",
    "    'Age': [float(processed_data[0][\"age\"])],\n",
    "    'Socioeconomic_Background': [form_data_df['Socioeconomic_Background'][0]],\n",
    "    'SSC_Marks_Percentage': [float(processed_data[0][\"sscMarks\"])],\n",
    "    'HSC_Marks_Percentage': [float(processed_data[0][\"hscMarks\"])],\n",
    "    'MHTCET_Scores_Percentile': [float(processed_data[0][\"mhtcetMarks\"])],\n",
    "    'JEE_Mains_Scores_Percentile': [float(processed_data[0][\"jeeMainsMarks\"])]\n",
    "})"
   ]
  },
  {
   "cell_type": "code",
   "execution_count": 19,
   "metadata": {},
   "outputs": [],
   "source": [
    "# Function to make predictions using the models\n",
    "def make_predictions(data):\n",
    "    college_predictions = college_model.predict(data)\n",
    "    branch_predictions = branch_model.predict(data)\n",
    "    return college_predictions, branch_predictions\n",
    "\n",
    "# Make predictions\n",
    "college_preds, branch_preds = make_predictions(data_point)"
   ]
  },
  {
   "cell_type": "code",
   "execution_count": 20,
   "metadata": {},
   "outputs": [
    {
     "name": "stdout",
     "output_type": "stream",
     "text": [
      "College Predictions: [['XIE']]\n",
      "Branch Predictions: [['Electronics and Telecommunication Engg']]\n"
     ]
    }
   ],
   "source": [
    "# Print the predictions\n",
    "print(\"College Predictions:\", college_preds)\n",
    "print(\"Branch Predictions:\", branch_preds)"
   ]
  }
 ],
 "metadata": {
  "kernelspec": {
   "display_name": "venv",
   "language": "python",
   "name": "python3"
  },
  "language_info": {
   "codemirror_mode": {
    "name": "ipython",
    "version": 3
   },
   "file_extension": ".py",
   "mimetype": "text/x-python",
   "name": "python",
   "nbconvert_exporter": "python",
   "pygments_lexer": "ipython3",
   "version": "3.9.6"
  }
 },
 "nbformat": 4,
 "nbformat_minor": 2
}
