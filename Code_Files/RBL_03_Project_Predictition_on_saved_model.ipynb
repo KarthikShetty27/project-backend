{
 "cells": [
  {
   "cell_type": "code",
   "execution_count": 29,
   "metadata": {},
   "outputs": [],
   "source": [
    "# Import necessary libraries\n",
    "import pandas as pd\n",
    "import numpy as np\n",
    "from catboost import CatBoostClassifier\n",
    "from sklearn.preprocessing import LabelEncoder"
   ]
  },
  {
   "cell_type": "code",
   "execution_count": 30,
   "metadata": {},
   "outputs": [
    {
     "data": {
      "text/plain": [
       "<catboost.core.CatBoostClassifier at 0x25511c8d6d0>"
      ]
     },
     "execution_count": 30,
     "metadata": {},
     "output_type": "execute_result"
    }
   ],
   "source": [
    "# Load the saved models\n",
    "college_model = CatBoostClassifier()\n",
    "college_model.load_model(\"../Saved_Models/college_model.cbm\")\n",
    "\n",
    "branch_model = CatBoostClassifier()\n",
    "branch_model.load_model(\"../Saved_Models/branch_model.cbm\")"
   ]
  },
  {
   "cell_type": "code",
   "execution_count": 31,
   "metadata": {},
   "outputs": [],
   "source": [
    "# Define the test data in the format provided\n",
    "form_data = [{\"age\":\"20\",\"hscMarks\":\"88.64\",\"jeeMainsMarks\":\"93.26\",\"mhtcetMarks\":\"90.85\",\"socioeconomicBackground\":\"Open\",\"sscMarks\":\"85.65\"}]"
   ]
  },
  {
   "cell_type": "code",
   "execution_count": 32,
   "metadata": {},
   "outputs": [],
   "source": [
    "# Convert list of dictionaries to DataFrame\n",
    "form_data_df = pd.DataFrame(form_data)"
   ]
  },
  {
   "cell_type": "code",
   "execution_count": 33,
   "metadata": {},
   "outputs": [],
   "source": [
    "# Encode categorical variables (Socioeconomic_Background)\n",
    "le = LabelEncoder()\n",
    "form_data_df['Socioeconomic_Background'] = le.fit_transform(form_data_df['socioeconomicBackground'])"
   ]
  },
  {
   "cell_type": "code",
   "execution_count": 34,
   "metadata": {},
   "outputs": [],
   "source": [
    "# Drop the original column after encoding\n",
    "form_data_df.drop(columns=['socioeconomicBackground'], inplace=True)"
   ]
  },
  {
   "cell_type": "code",
   "execution_count": 35,
   "metadata": {},
   "outputs": [
    {
     "data": {
      "text/html": [
       "<div>\n",
       "<style scoped>\n",
       "    .dataframe tbody tr th:only-of-type {\n",
       "        vertical-align: middle;\n",
       "    }\n",
       "\n",
       "    .dataframe tbody tr th {\n",
       "        vertical-align: top;\n",
       "    }\n",
       "\n",
       "    .dataframe thead th {\n",
       "        text-align: right;\n",
       "    }\n",
       "</style>\n",
       "<table border=\"1\" class=\"dataframe\">\n",
       "  <thead>\n",
       "    <tr style=\"text-align: right;\">\n",
       "      <th></th>\n",
       "      <th>age</th>\n",
       "      <th>hscMarks</th>\n",
       "      <th>jeeMainsMarks</th>\n",
       "      <th>mhtcetMarks</th>\n",
       "      <th>sscMarks</th>\n",
       "      <th>Socioeconomic_Background</th>\n",
       "    </tr>\n",
       "  </thead>\n",
       "  <tbody>\n",
       "    <tr>\n",
       "      <th>0</th>\n",
       "      <td>20</td>\n",
       "      <td>88.64</td>\n",
       "      <td>93.26</td>\n",
       "      <td>90.85</td>\n",
       "      <td>85.65</td>\n",
       "      <td>0</td>\n",
       "    </tr>\n",
       "  </tbody>\n",
       "</table>\n",
       "</div>"
      ],
      "text/plain": [
       "  age hscMarks jeeMainsMarks mhtcetMarks sscMarks  Socioeconomic_Background\n",
       "0  20    88.64         93.26       90.85    85.65                         0"
      ]
     },
     "execution_count": 35,
     "metadata": {},
     "output_type": "execute_result"
    }
   ],
   "source": [
    "form_data_df"
   ]
  },
  {
   "cell_type": "code",
   "execution_count": 36,
   "metadata": {},
   "outputs": [],
   "source": [
    "# Function to preprocess the data\n",
    "def preprocess_data(data):\n",
    "    # Convert string values to float where necessary\n",
    "    for entry in data:\n",
    "        entry['age'] = float(entry['age'])\n",
    "        entry['hscMarks'] = float(entry['hscMarks'])\n",
    "        entry['jeeMainsMarks'] = float(entry['jeeMainsMarks'])\n",
    "        entry['mhtcetMarks'] = float(entry['mhtcetMarks'])\n",
    "        entry['sscMarks'] = float(entry['sscMarks'])\n",
    "    return data"
   ]
  },
  {
   "cell_type": "code",
   "execution_count": 37,
   "metadata": {},
   "outputs": [],
   "source": [
    "# Preprocess the test data\n",
    "processed_data = preprocess_data(form_data)"
   ]
  },
  {
   "cell_type": "code",
   "execution_count": 38,
   "metadata": {},
   "outputs": [
    {
     "data": {
      "text/plain": [
       "[{'age': 20.0,\n",
       "  'hscMarks': 88.64,\n",
       "  'jeeMainsMarks': 93.26,\n",
       "  'mhtcetMarks': 90.85,\n",
       "  'socioeconomicBackground': 'Open',\n",
       "  'sscMarks': 85.65}]"
      ]
     },
     "execution_count": 38,
     "metadata": {},
     "output_type": "execute_result"
    }
   ],
   "source": [
    "processed_data"
   ]
  },
  {
   "cell_type": "code",
   "execution_count": 39,
   "metadata": {},
   "outputs": [],
   "source": [
    "# Convert the processed data into a DataFrame\n",
    "data_point = pd.DataFrame({\n",
    "    'Age': [float(processed_data[0][\"age\"])],\n",
    "    'Socioeconomic_Background': [form_data_df['Socioeconomic_Background'][0]],\n",
    "    'SSC_Marks_Percentage': [float(processed_data[0][\"sscMarks\"])],\n",
    "    'HSC_Marks_Percentage': [float(processed_data[0][\"hscMarks\"])],\n",
    "    'MHTCET_Scores_Percentile': [float(processed_data[0][\"mhtcetMarks\"])],\n",
    "    'JEE_Mains_Scores_Percentile': [float(processed_data[0][\"jeeMainsMarks\"])]\n",
    "})"
   ]
  },
  {
   "cell_type": "code",
   "execution_count": 40,
   "metadata": {},
   "outputs": [],
   "source": [
    "# # Function to make predictions using the models\n",
    "# def make_predictions(data):\n",
    "#     college_predictions = college_model.predict(data)\n",
    "#     branch_predictions = branch_model.predict(data)\n",
    "#     return college_predictions, branch_predictions\n",
    "\n",
    "# # Make predictions\n",
    "# college_preds, branch_preds = make_predictions(data_point)"
   ]
  },
  {
   "cell_type": "code",
   "execution_count": 41,
   "metadata": {},
   "outputs": [],
   "source": [
    "# new\n",
    "# Function to make predictions using the models\n",
    "def make_predictions(data, top_n=3):\n",
    "    # Get probabilities for each class\n",
    "    college_probs = college_model.predict_proba(data)\n",
    "    branch_probs = branch_model.predict_proba(data)\n",
    "    \n",
    "    # Get the indices of the top N predictions\n",
    "    top_n_college_indices = college_probs.argsort()[:, ::-1][:, :top_n]\n",
    "    top_n_branch_indices = branch_probs.argsort()[:, ::-1][:, :top_n]\n",
    "    \n",
    "    # Get the top N predictions and their corresponding probabilities\n",
    "    top_n_college_preds = college_model.classes_[top_n_college_indices]\n",
    "    top_n_college_probs = np.array([college_probs[i, indices] for i, indices in enumerate(top_n_college_indices)])\n",
    "    \n",
    "    top_n_branch_preds = branch_model.classes_[top_n_branch_indices]\n",
    "    top_n_branch_probs = np.array([branch_probs[i, indices] for i, indices in enumerate(top_n_branch_indices)])\n",
    "    \n",
    "    return top_n_college_preds, top_n_college_probs, top_n_branch_preds, top_n_branch_probs\n",
    "\n",
    "# Make predictions\n",
    "top_n_college_preds, top_n_college_probs, top_n_branch_preds, top_n_branch_probs = make_predictions(data_point)"
   ]
  },
  {
   "cell_type": "code",
   "execution_count": 42,
   "metadata": {},
   "outputs": [
    {
     "name": "stdout",
     "output_type": "stream",
     "text": [
      "Top 3 College Predictions:\n",
      "Prediction: XIE | Probability: 0.9699715296609469\n",
      "Prediction: RCE | Probability: 0.02869544765464859\n",
      "Prediction: TCET | Probability: 0.0007027097552885604\n",
      "\n",
      "Top 3 Branch Predictions:\n",
      "Prediction: Electronics and Telecommunication Engineering | Probability: 0.9595956800756615\n",
      "Prediction: Artificial Intelligence and Data Science | Probability: 0.015133193220389548\n",
      "Prediction: Electronics and Computer Science | Probability: 0.013724508547618624\n"
     ]
    }
   ],
   "source": [
    "# Print the predictions\n",
    "print(\"Top 3 College Predictions:\")\n",
    "for i in range(len(top_n_college_preds[0])):\n",
    "    print(\"Prediction:\", top_n_college_preds[0][i], \"| Probability:\", top_n_college_probs[0][i])\n",
    "\n",
    "print(\"\\nTop 3 Branch Predictions:\")\n",
    "for i in range(len(top_n_branch_preds[0])):\n",
    "    print(\"Prediction:\", top_n_branch_preds[0][i], \"| Probability:\", top_n_branch_probs[0][i])"
   ]
  },
  {
   "cell_type": "code",
   "execution_count": 43,
   "metadata": {},
   "outputs": [
    {
     "name": "stdout",
     "output_type": "stream",
     "text": [
      "College Predictions: [['XIE']]\n",
      "Branch Predictions: [['Electronics and Telecommunication Engineering']]\n"
     ]
    }
   ],
   "source": [
    "# Print the predictions\n",
    "print(\"College Predictions:\", college_preds)\n",
    "print(\"Branch Predictions:\", branch_preds)"
   ]
  }
 ],
 "metadata": {
  "kernelspec": {
   "display_name": "venv",
   "language": "python",
   "name": "python3"
  },
  "language_info": {
   "codemirror_mode": {
    "name": "ipython",
    "version": 3
   },
   "file_extension": ".py",
   "mimetype": "text/x-python",
   "name": "python",
   "nbconvert_exporter": "python",
   "pygments_lexer": "ipython3",
   "version": "3.9.6"
  }
 },
 "nbformat": 4,
 "nbformat_minor": 2
}
